{
 "cells": [
  {
   "cell_type": "code",
   "execution_count": 1,
   "metadata": {},
   "outputs": [
    {
     "name": "stdout",
     "output_type": "stream",
     "text": [
      "                 track_name currency   ver cont_rating prime_genre\n",
      "count                  7197     7197  7197        7197        7197\n",
      "unique                 7195        1  1590           4          23\n",
      "top     Mannequin Challenge      USD   1.0          4+       Games\n",
      "freq                      2     7197   317        4433        3862\n"
     ]
    },
    {
     "data": {
      "text/html": [
       "<div>\n",
       "<style scoped>\n",
       "    .dataframe tbody tr th:only-of-type {\n",
       "        vertical-align: middle;\n",
       "    }\n",
       "\n",
       "    .dataframe tbody tr th {\n",
       "        vertical-align: top;\n",
       "    }\n",
       "\n",
       "    .dataframe thead th {\n",
       "        text-align: right;\n",
       "    }\n",
       "</style>\n",
       "<table border=\"1\" class=\"dataframe\">\n",
       "  <thead>\n",
       "    <tr style=\"text-align: right;\">\n",
       "      <th></th>\n",
       "      <th>id</th>\n",
       "      <th>size_bytes</th>\n",
       "      <th>price</th>\n",
       "      <th>rating_count_tot</th>\n",
       "      <th>rating_count_ver</th>\n",
       "      <th>user_rating</th>\n",
       "      <th>user_rating_ver</th>\n",
       "      <th>sup_devices.num</th>\n",
       "      <th>ipadSc_urls.num</th>\n",
       "      <th>lang.num</th>\n",
       "      <th>vpp_lic</th>\n",
       "    </tr>\n",
       "  </thead>\n",
       "  <tbody>\n",
       "    <tr>\n",
       "      <td>count</td>\n",
       "      <td>7.197000e+03</td>\n",
       "      <td>7.197000e+03</td>\n",
       "      <td>7197.000000</td>\n",
       "      <td>7.197000e+03</td>\n",
       "      <td>7197.000000</td>\n",
       "      <td>7197.000000</td>\n",
       "      <td>7197.000000</td>\n",
       "      <td>7197.000000</td>\n",
       "      <td>7197.000000</td>\n",
       "      <td>7197.000000</td>\n",
       "      <td>7197.000000</td>\n",
       "    </tr>\n",
       "    <tr>\n",
       "      <td>mean</td>\n",
       "      <td>8.631310e+08</td>\n",
       "      <td>1.991345e+08</td>\n",
       "      <td>1.726218</td>\n",
       "      <td>1.289291e+04</td>\n",
       "      <td>460.373906</td>\n",
       "      <td>3.526956</td>\n",
       "      <td>3.253578</td>\n",
       "      <td>37.361817</td>\n",
       "      <td>3.707100</td>\n",
       "      <td>5.434903</td>\n",
       "      <td>0.993053</td>\n",
       "    </tr>\n",
       "    <tr>\n",
       "      <td>std</td>\n",
       "      <td>2.712368e+08</td>\n",
       "      <td>3.592069e+08</td>\n",
       "      <td>5.833006</td>\n",
       "      <td>7.573941e+04</td>\n",
       "      <td>3920.455183</td>\n",
       "      <td>1.517948</td>\n",
       "      <td>1.809363</td>\n",
       "      <td>3.737715</td>\n",
       "      <td>1.986005</td>\n",
       "      <td>7.919593</td>\n",
       "      <td>0.083066</td>\n",
       "    </tr>\n",
       "    <tr>\n",
       "      <td>min</td>\n",
       "      <td>2.816565e+08</td>\n",
       "      <td>5.898240e+05</td>\n",
       "      <td>0.000000</td>\n",
       "      <td>0.000000e+00</td>\n",
       "      <td>0.000000</td>\n",
       "      <td>0.000000</td>\n",
       "      <td>0.000000</td>\n",
       "      <td>9.000000</td>\n",
       "      <td>0.000000</td>\n",
       "      <td>0.000000</td>\n",
       "      <td>0.000000</td>\n",
       "    </tr>\n",
       "    <tr>\n",
       "      <td>25%</td>\n",
       "      <td>6.000937e+08</td>\n",
       "      <td>4.692275e+07</td>\n",
       "      <td>0.000000</td>\n",
       "      <td>2.800000e+01</td>\n",
       "      <td>1.000000</td>\n",
       "      <td>3.500000</td>\n",
       "      <td>2.500000</td>\n",
       "      <td>37.000000</td>\n",
       "      <td>3.000000</td>\n",
       "      <td>1.000000</td>\n",
       "      <td>1.000000</td>\n",
       "    </tr>\n",
       "    <tr>\n",
       "      <td>50%</td>\n",
       "      <td>9.781482e+08</td>\n",
       "      <td>9.715302e+07</td>\n",
       "      <td>0.000000</td>\n",
       "      <td>3.000000e+02</td>\n",
       "      <td>23.000000</td>\n",
       "      <td>4.000000</td>\n",
       "      <td>4.000000</td>\n",
       "      <td>37.000000</td>\n",
       "      <td>5.000000</td>\n",
       "      <td>1.000000</td>\n",
       "      <td>1.000000</td>\n",
       "    </tr>\n",
       "    <tr>\n",
       "      <td>75%</td>\n",
       "      <td>1.082310e+09</td>\n",
       "      <td>1.819249e+08</td>\n",
       "      <td>1.990000</td>\n",
       "      <td>2.793000e+03</td>\n",
       "      <td>140.000000</td>\n",
       "      <td>4.500000</td>\n",
       "      <td>4.500000</td>\n",
       "      <td>38.000000</td>\n",
       "      <td>5.000000</td>\n",
       "      <td>8.000000</td>\n",
       "      <td>1.000000</td>\n",
       "    </tr>\n",
       "    <tr>\n",
       "      <td>max</td>\n",
       "      <td>1.188376e+09</td>\n",
       "      <td>4.025970e+09</td>\n",
       "      <td>299.990000</td>\n",
       "      <td>2.974676e+06</td>\n",
       "      <td>177050.000000</td>\n",
       "      <td>5.000000</td>\n",
       "      <td>5.000000</td>\n",
       "      <td>47.000000</td>\n",
       "      <td>5.000000</td>\n",
       "      <td>75.000000</td>\n",
       "      <td>1.000000</td>\n",
       "    </tr>\n",
       "  </tbody>\n",
       "</table>\n",
       "</div>"
      ],
      "text/plain": [
       "                 id    size_bytes        price  rating_count_tot  \\\n",
       "count  7.197000e+03  7.197000e+03  7197.000000      7.197000e+03   \n",
       "mean   8.631310e+08  1.991345e+08     1.726218      1.289291e+04   \n",
       "std    2.712368e+08  3.592069e+08     5.833006      7.573941e+04   \n",
       "min    2.816565e+08  5.898240e+05     0.000000      0.000000e+00   \n",
       "25%    6.000937e+08  4.692275e+07     0.000000      2.800000e+01   \n",
       "50%    9.781482e+08  9.715302e+07     0.000000      3.000000e+02   \n",
       "75%    1.082310e+09  1.819249e+08     1.990000      2.793000e+03   \n",
       "max    1.188376e+09  4.025970e+09   299.990000      2.974676e+06   \n",
       "\n",
       "       rating_count_ver  user_rating  user_rating_ver  sup_devices.num  \\\n",
       "count       7197.000000  7197.000000      7197.000000      7197.000000   \n",
       "mean         460.373906     3.526956         3.253578        37.361817   \n",
       "std         3920.455183     1.517948         1.809363         3.737715   \n",
       "min            0.000000     0.000000         0.000000         9.000000   \n",
       "25%            1.000000     3.500000         2.500000        37.000000   \n",
       "50%           23.000000     4.000000         4.000000        37.000000   \n",
       "75%          140.000000     4.500000         4.500000        38.000000   \n",
       "max       177050.000000     5.000000         5.000000        47.000000   \n",
       "\n",
       "       ipadSc_urls.num     lang.num      vpp_lic  \n",
       "count      7197.000000  7197.000000  7197.000000  \n",
       "mean          3.707100     5.434903     0.993053  \n",
       "std           1.986005     7.919593     0.083066  \n",
       "min           0.000000     0.000000     0.000000  \n",
       "25%           3.000000     1.000000     1.000000  \n",
       "50%           5.000000     1.000000     1.000000  \n",
       "75%           5.000000     8.000000     1.000000  \n",
       "max           5.000000    75.000000     1.000000  "
      ]
     },
     "execution_count": 1,
     "metadata": {},
     "output_type": "execute_result"
    }
   ],
   "source": [
    "import pandas\n",
    "\n",
    "panda_apple=pandas.read_csv(\"Applestore.csv\")\n",
    "print(panda_apple.describe(include='object'))\n",
    "panda_apple.describe(include='number')\n"
   ]
  },
  {
   "cell_type": "code",
   "execution_count": 2,
   "metadata": {},
   "outputs": [
    {
     "name": "stdout",
     "output_type": "stream",
     "text": [
      "            Rating\n",
      "count  9367.000000\n",
      "mean      4.193338\n",
      "std       0.537431\n",
      "min       1.000000\n",
      "25%       4.000000\n",
      "50%       4.300000\n",
      "75%       4.500000\n",
      "max      19.000000\n"
     ]
    },
    {
     "data": {
      "text/html": [
       "<div>\n",
       "<style scoped>\n",
       "    .dataframe tbody tr th:only-of-type {\n",
       "        vertical-align: middle;\n",
       "    }\n",
       "\n",
       "    .dataframe tbody tr th {\n",
       "        vertical-align: top;\n",
       "    }\n",
       "\n",
       "    .dataframe thead th {\n",
       "        text-align: right;\n",
       "    }\n",
       "</style>\n",
       "<table border=\"1\" class=\"dataframe\">\n",
       "  <thead>\n",
       "    <tr style=\"text-align: right;\">\n",
       "      <th></th>\n",
       "      <th>App</th>\n",
       "      <th>Category</th>\n",
       "      <th>Reviews</th>\n",
       "      <th>Size</th>\n",
       "      <th>Installs</th>\n",
       "      <th>Type</th>\n",
       "      <th>Price</th>\n",
       "      <th>Content Rating</th>\n",
       "      <th>Genres</th>\n",
       "      <th>Last Updated</th>\n",
       "      <th>Current Ver</th>\n",
       "      <th>Android Ver</th>\n",
       "    </tr>\n",
       "  </thead>\n",
       "  <tbody>\n",
       "    <tr>\n",
       "      <td>count</td>\n",
       "      <td>10841</td>\n",
       "      <td>10841</td>\n",
       "      <td>10841</td>\n",
       "      <td>10841</td>\n",
       "      <td>10841</td>\n",
       "      <td>10840</td>\n",
       "      <td>10841</td>\n",
       "      <td>10840</td>\n",
       "      <td>10841</td>\n",
       "      <td>10841</td>\n",
       "      <td>10833</td>\n",
       "      <td>10838</td>\n",
       "    </tr>\n",
       "    <tr>\n",
       "      <td>unique</td>\n",
       "      <td>9660</td>\n",
       "      <td>34</td>\n",
       "      <td>6002</td>\n",
       "      <td>462</td>\n",
       "      <td>22</td>\n",
       "      <td>3</td>\n",
       "      <td>93</td>\n",
       "      <td>6</td>\n",
       "      <td>120</td>\n",
       "      <td>1378</td>\n",
       "      <td>2832</td>\n",
       "      <td>33</td>\n",
       "    </tr>\n",
       "    <tr>\n",
       "      <td>top</td>\n",
       "      <td>ROBLOX</td>\n",
       "      <td>FAMILY</td>\n",
       "      <td>0</td>\n",
       "      <td>Varies with device</td>\n",
       "      <td>1,000,000+</td>\n",
       "      <td>Free</td>\n",
       "      <td>0</td>\n",
       "      <td>Everyone</td>\n",
       "      <td>Tools</td>\n",
       "      <td>August 3, 2018</td>\n",
       "      <td>Varies with device</td>\n",
       "      <td>4.1 and up</td>\n",
       "    </tr>\n",
       "    <tr>\n",
       "      <td>freq</td>\n",
       "      <td>9</td>\n",
       "      <td>1972</td>\n",
       "      <td>596</td>\n",
       "      <td>1695</td>\n",
       "      <td>1579</td>\n",
       "      <td>10039</td>\n",
       "      <td>10040</td>\n",
       "      <td>8714</td>\n",
       "      <td>842</td>\n",
       "      <td>326</td>\n",
       "      <td>1459</td>\n",
       "      <td>2451</td>\n",
       "    </tr>\n",
       "  </tbody>\n",
       "</table>\n",
       "</div>"
      ],
      "text/plain": [
       "           App Category Reviews                Size    Installs   Type  Price  \\\n",
       "count    10841    10841   10841               10841       10841  10840  10841   \n",
       "unique    9660       34    6002                 462          22      3     93   \n",
       "top     ROBLOX   FAMILY       0  Varies with device  1,000,000+   Free      0   \n",
       "freq         9     1972     596                1695        1579  10039  10040   \n",
       "\n",
       "       Content Rating Genres    Last Updated         Current Ver Android Ver  \n",
       "count           10840  10841           10841               10833       10838  \n",
       "unique              6    120            1378                2832          33  \n",
       "top          Everyone  Tools  August 3, 2018  Varies with device  4.1 and up  \n",
       "freq             8714    842             326                1459        2451  "
      ]
     },
     "execution_count": 2,
     "metadata": {},
     "output_type": "execute_result"
    }
   ],
   "source": [
    "panda_googleplay=pandas.read_csv(\"googleplaystore.csv\")\n",
    "print(panda_googleplay.describe(include='number'))\n",
    "panda_googleplay.describe(include='object')"
   ]
  },
  {
   "cell_type": "code",
   "execution_count": 3,
   "metadata": {},
   "outputs": [
    {
     "name": "stdout",
     "output_type": "stream",
     "text": [
      "[[284882215, 'Facebook', 389879808, 'USD', 0.0, 2974676, 212, 3.5, 3.5, '95.0', '4+', 'Social Networking', 37, 1, 29, 1], [389801252, 'Instagram', 113954816, 'USD', 0.0, 2161558, 1289, 4.5, 4.0, '10.23', '12+', 'Photo & Video', 37, 0, 29, 1], [529479190, 'Clash of Clans', 116476928, 'USD', 0.0, 2130805, 579, 4.5, 4.5, '9.24.12', '9+', 'Games', 38, 5, 18, 1], [420009108, 'Temple Run', 65921024, 'USD', 0.0, 1724546, 3842, 4.5, 4.0, '1.6.2', '9+', 'Games', 40, 5, 1, 1], [284035177, 'Pandora - Music & Radio', 130242560, 'USD', 0.0, 1126879, 3594, 4.0, 4.5, '8.4.1', '12+', 'Music', 37, 4, 1, 1]]\n"
     ]
    }
   ],
   "source": [
    "data = pandas.read_csv(\"AppleStore.csv\")\n",
    "a=data.shape\n",
    "apple=[]\n",
    "for i in range(a[0]):\n",
    "    row = list(data.loc[i])\n",
    "    apple.append(row)\n",
    "print(apple[0:5])"
   ]
  },
  {
   "cell_type": "code",
   "execution_count": 4,
   "metadata": {},
   "outputs": [
    {
     "name": "stdout",
     "output_type": "stream",
     "text": [
      "[['Photo Editor & Candy Camera & Grid & ScrapBook', 'ART_AND_DESIGN', 4.1, '159', '19M', '10,000+', 'Free', '0', 'Everyone', 'Art & Design', 'January 7, 2018', '1.0.0', '4.0.3 and up'], ['Coloring book moana', 'ART_AND_DESIGN', 3.9, '967', '14M', '500,000+', 'Free', '0', 'Everyone', 'Art & Design;Pretend Play', 'January 15, 2018', '2.0.0', '4.0.3 and up'], ['U Launcher Lite – FREE Live Cool Themes, Hide Apps', 'ART_AND_DESIGN', 4.7, '87510', '8.7M', '5,000,000+', 'Free', '0', 'Everyone', 'Art & Design', 'August 1, 2018', '1.2.4', '4.0.3 and up'], ['Sketch - Draw & Paint', 'ART_AND_DESIGN', 4.5, '215644', '25M', '50,000,000+', 'Free', '0', 'Teen', 'Art & Design', 'June 8, 2018', 'Varies with device', '4.2 and up'], ['Pixel Draw - Number Art Coloring Book', 'ART_AND_DESIGN', 4.3, '967', '2.8M', '100,000+', 'Free', '0', 'Everyone', 'Art & Design;Creativity', 'June 20, 2018', '1.1', '4.4 and up']]\n"
     ]
    }
   ],
   "source": [
    "data = pandas.read_csv(\"googleplaystore.csv\")\n",
    "a=data.shape\n",
    "googleplay=[]\n",
    "for i in range(a[0]):\n",
    "    row = list(data.loc[i])\n",
    "    googleplay.append(row)\n",
    "print(googleplay[0:5])"
   ]
  },
  {
   "cell_type": "code",
   "execution_count": 5,
   "metadata": {},
   "outputs": [],
   "source": [
    "def explore_data(dataset, start, end, rows_and_columns=False):\n",
    "    dataset_slice = dataset[start:end]    \n",
    "    for row in dataset_slice:\n",
    "        print(row)\n",
    "        print('\\n') # adds a new (empty) line between rows\n",
    "        \n",
    "    if rows_and_columns:\n",
    "        print('Number of rows:', len(dataset))\n",
    "        print('Number of columns:', len(dataset[0]))\n",
    "#This function help us to de=isplay the list of lists in a good-looking form,\n",
    "#Easier to manage the data"
   ]
  },
  {
   "cell_type": "code",
   "execution_count": 6,
   "metadata": {},
   "outputs": [],
   "source": [
    "def english_checker_2 (string):\n",
    "    number_of_non_English_character=[]\n",
    "    for each_character in string:\n",
    "        if ord(each_character)>127:\n",
    "            number_of_non_English_character.append(each_character)\n",
    "    if len(number_of_non_English_character)>3:\n",
    "        return False\n",
    "    elif len(number_of_non_English_character)<=3:\n",
    "        return True\n",
    "#This function is used to check if the name of the app is written in English or not\n",
    "#If the app name has more than 3 character different from English letter or number\n",
    "#It will be deleted"
   ]
  },
  {
   "cell_type": "code",
   "execution_count": 7,
   "metadata": {},
   "outputs": [
    {
     "name": "stdout",
     "output_type": "stream",
     "text": [
      "10472\n"
     ]
    }
   ],
   "source": [
    "'''tracing back the \n",
    "error in \"rating\" feature \n",
    "of googleplay'''\n",
    "for i in googleplay:\n",
    "    rating_error=i[2]\n",
    "    if rating_error==19:\n",
    "        print(googleplay.index(i))"
   ]
  },
  {
   "cell_type": "code",
   "execution_count": 8,
   "metadata": {},
   "outputs": [
    {
     "name": "stdout",
     "output_type": "stream",
     "text": [
      "['Life Made WI-Fi Touchscreen Photo Frame', '1.9', 19.0, '3.0M', '1,000+', 'Free', '0', 'Everyone', nan, 'February 11, 2018', '1.0.19', '4.0 and up', nan]\n",
      "\n",
      "\n",
      "['osmino Wi-Fi: free WiFi', 'TOOLS', 4.2, '134203', '4.1M', '10,000,000+', 'Free', '0', 'Everyone', 'Tools', 'August 7, 2018', '6.06.14', '4.4 and up']\n",
      "\n",
      "\n",
      "['Sat-Fi Voice', 'COMMUNICATION', 3.4, '37', '14M', '1,000+', 'Free', '0', 'Everyone', 'Communication', 'November 21, 2014', '2.2.1.5', '2.2 and up']\n",
      "\n",
      "\n",
      "['Wi-Fi Visualizer', 'TOOLS', 3.9, '132', '2.6M', '50,000+', 'Free', '0', 'Everyone', 'Tools', 'May 17, 2017', '0.0.9', '2.3 and up']\n",
      "\n",
      "\n",
      "Number of rows: 10841\n",
      "Number of columns: 13\n"
     ]
    }
   ],
   "source": [
    "explore_data(googleplay, 10472, 10476, True)"
   ]
  },
  {
   "cell_type": "markdown",
   "metadata": {},
   "source": [
    "As we can see from above (in the second cell), the maximum value for \"rating\" feature was 19.0, which was exceeding the actual max value (5.0). So now, we need to delete this line (index 10472)"
   ]
  },
  {
   "cell_type": "code",
   "execution_count": 9,
   "metadata": {},
   "outputs": [],
   "source": [
    "del googleplay[10472]\n",
    "#delete the index row 10472"
   ]
  },
  {
   "cell_type": "code",
   "execution_count": 10,
   "metadata": {},
   "outputs": [
    {
     "name": "stdout",
     "output_type": "stream",
     "text": [
      "['osmino Wi-Fi: free WiFi', 'TOOLS', 4.2, '134203', '4.1M', '10,000,000+', 'Free', '0', 'Everyone', 'Tools', 'August 7, 2018', '6.06.14', '4.4 and up']\n",
      "\n",
      "\n",
      "['Sat-Fi Voice', 'COMMUNICATION', 3.4, '37', '14M', '1,000+', 'Free', '0', 'Everyone', 'Communication', 'November 21, 2014', '2.2.1.5', '2.2 and up']\n",
      "\n",
      "\n",
      "['Wi-Fi Visualizer', 'TOOLS', 3.9, '132', '2.6M', '50,000+', 'Free', '0', 'Everyone', 'Tools', 'May 17, 2017', '0.0.9', '2.3 and up']\n",
      "\n",
      "\n",
      "['Lennox iComfort Wi-Fi', 'LIFESTYLE', 3.0, '552', '7.6M', '50,000+', 'Free', '0', 'Everyone', 'Lifestyle', 'March 22, 2017', '2.0.15', '2.3.3 and up']\n",
      "\n",
      "\n",
      "Number of rows: 10840\n",
      "Number of columns: 13\n"
     ]
    }
   ],
   "source": [
    "explore_data(googleplay, 10472, 10476, True)"
   ]
  },
  {
   "cell_type": "markdown",
   "metadata": {},
   "source": [
    "Now the number of rows in googleplay is 10840 left. (1 row deleted)"
   ]
  },
  {
   "cell_type": "markdown",
   "metadata": {},
   "source": [
    "In 'googleplay', there are manhy duplicated-name apps, so we need to choose the newest version corresponding to the 'Reviews' feature. Which version has the biggest number in 'Reviews' would be remained, whereas the other version will be removed from the data set."
   ]
  },
  {
   "cell_type": "code",
   "execution_count": 11,
   "metadata": {},
   "outputs": [],
   "source": [
    "duplicate_name=[]\n",
    "unique_name=[]\n",
    "for each_row in googleplay:\n",
    "    name = each_row[0]\n",
    "    if name in unique_name:\n",
    "        duplicate_name.append(name)\n",
    "    else:\n",
    "        unique_name.append(name)"
   ]
  },
  {
   "cell_type": "code",
   "execution_count": 12,
   "metadata": {},
   "outputs": [
    {
     "data": {
      "text/plain": [
       "1181"
      ]
     },
     "execution_count": 12,
     "metadata": {},
     "output_type": "execute_result"
    }
   ],
   "source": [
    "len(duplicate_name)"
   ]
  },
  {
   "cell_type": "code",
   "execution_count": 13,
   "metadata": {},
   "outputs": [],
   "source": [
    "maximum_reviews={}\n",
    "for each_row in googleplay:\n",
    "    name = each_row[0]\n",
    "    reviews = float(each_row[3])\n",
    "    if (name in maximum_reviews) and (reviews >= maximum_reviews[name]):\n",
    "        maximum_reviews[name]=reviews\n",
    "    if name not in maximum_reviews:\n",
    "        maximum_reviews[name]=reviews"
   ]
  },
  {
   "cell_type": "markdown",
   "metadata": {},
   "source": [
    "Let's check if our solution above correct or not."
   ]
  },
  {
   "cell_type": "code",
   "execution_count": 14,
   "metadata": {},
   "outputs": [
    {
     "name": "stdout",
     "output_type": "stream",
     "text": [
      "True\n"
     ]
    }
   ],
   "source": [
    "expected_number=len(googleplay)-len(duplicate_name)\n",
    "actual_number=len(maximum_reviews)\n",
    "print(expected_number==actual_number)"
   ]
  },
  {
   "cell_type": "markdown",
   "metadata": {},
   "source": [
    "Great! expected_number variable and actual_number variable were identical. Now we will clean up the googleplay data"
   ]
  },
  {
   "cell_type": "code",
   "execution_count": 15,
   "metadata": {},
   "outputs": [],
   "source": [
    "googleplay_clean = []\n",
    "already_added=[]\n",
    "for each_row in googleplay:\n",
    "    name =each_row[0]\n",
    "    reviews = float(each_row[3])\n",
    "    if (name not in already_added) and (reviews == maximum_reviews[name]):\n",
    "        already_added.append(name)\n",
    "        googleplay_clean.append(each_row)"
   ]
  },
  {
   "cell_type": "code",
   "execution_count": 16,
   "metadata": {},
   "outputs": [
    {
     "data": {
      "text/plain": [
       "9659"
      ]
     },
     "execution_count": 16,
     "metadata": {},
     "output_type": "execute_result"
    }
   ],
   "source": [
    "len(googleplay_clean)"
   ]
  },
  {
   "cell_type": "code",
   "execution_count": 17,
   "metadata": {},
   "outputs": [],
   "source": [
    "'''I will use enlish_checker_2 function \n",
    "I created above to wipe out \n",
    "the non-English name app from googleplay'''\n",
    "\n",
    "non_English_apps_of_googleplay=[]\n",
    "English_apps_of_googleplay=[]\n",
    "for each_row in googleplay_clean:\n",
    "    name = each_row[0]\n",
    "    logic=english_checker_2(name)\n",
    "    if logic==True:\n",
    "        English_apps_of_googleplay.append(each_row)\n",
    "    elif logic==False:\n",
    "        non_English_apps_of_googleplay.append(each_row)"
   ]
  },
  {
   "cell_type": "code",
   "execution_count": 18,
   "metadata": {},
   "outputs": [
    {
     "data": {
      "text/plain": [
       "9614"
      ]
     },
     "execution_count": 18,
     "metadata": {},
     "output_type": "execute_result"
    }
   ],
   "source": [
    "len(English_apps_of_googleplay)"
   ]
  },
  {
   "cell_type": "markdown",
   "metadata": {},
   "source": [
    "Our aim is to find the free apps from both 'googleplay' and 'apple' to choose which one would suit both operation system best.\n",
    "So now I wil do one last step in clearing process of 'googleplay' dataset"
   ]
  },
  {
   "cell_type": "code",
   "execution_count": 19,
   "metadata": {},
   "outputs": [],
   "source": [
    "googleplay_final=[]\n",
    "for each_row in English_apps_of_googleplay:\n",
    "    price = each_row[7]\n",
    "    if price=='0':\n",
    "        googleplay_final.append(each_row)"
   ]
  },
  {
   "cell_type": "code",
   "execution_count": 20,
   "metadata": {
    "scrolled": true
   },
   "outputs": [
    {
     "name": "stdout",
     "output_type": "stream",
     "text": [
      "['Photo Editor & Candy Camera & Grid & ScrapBook', 'ART_AND_DESIGN', 4.1, '159', '19M', '10,000+', 'Free', '0', 'Everyone', 'Art & Design', 'January 7, 2018', '1.0.0', '4.0.3 and up']\n",
      "\n",
      "\n",
      "['U Launcher Lite – FREE Live Cool Themes, Hide Apps', 'ART_AND_DESIGN', 4.7, '87510', '8.7M', '5,000,000+', 'Free', '0', 'Everyone', 'Art & Design', 'August 1, 2018', '1.2.4', '4.0.3 and up']\n",
      "\n",
      "\n",
      "['Sketch - Draw & Paint', 'ART_AND_DESIGN', 4.5, '215644', '25M', '50,000,000+', 'Free', '0', 'Teen', 'Art & Design', 'June 8, 2018', 'Varies with device', '4.2 and up']\n",
      "\n",
      "\n",
      "['Pixel Draw - Number Art Coloring Book', 'ART_AND_DESIGN', 4.3, '967', '2.8M', '100,000+', 'Free', '0', 'Everyone', 'Art & Design;Creativity', 'June 20, 2018', '1.1', '4.4 and up']\n",
      "\n",
      "\n",
      "Number of rows: 8864\n",
      "Number of columns: 13\n"
     ]
    }
   ],
   "source": [
    "explore_data(googleplay_final, 0, 4, True)"
   ]
  },
  {
   "cell_type": "markdown",
   "metadata": {},
   "source": [
    "I will apply the same clearing process for 'apple' dataset"
   ]
  },
  {
   "cell_type": "code",
   "execution_count": 21,
   "metadata": {},
   "outputs": [
    {
     "name": "stdout",
     "output_type": "stream",
     "text": [
      "[284882215, 'Facebook', 389879808, 'USD', 0.0, 2974676, 212, 3.5, 3.5, '95.0', '4+', 'Social Networking', 37, 1, 29, 1]\n",
      "\n",
      "\n",
      "[389801252, 'Instagram', 113954816, 'USD', 0.0, 2161558, 1289, 4.5, 4.0, '10.23', '12+', 'Photo & Video', 37, 0, 29, 1]\n",
      "\n",
      "\n",
      "[529479190, 'Clash of Clans', 116476928, 'USD', 0.0, 2130805, 579, 4.5, 4.5, '9.24.12', '9+', 'Games', 38, 5, 18, 1]\n",
      "\n",
      "\n",
      "Number of rows: 7197\n",
      "Number of columns: 16\n"
     ]
    }
   ],
   "source": [
    "explore_data(apple,0,3,True)"
   ]
  },
  {
   "cell_type": "code",
   "execution_count": 22,
   "metadata": {},
   "outputs": [],
   "source": [
    "duplicate_name=[]\n",
    "unique_name=[]\n",
    "for each_row in apple:\n",
    "    name = each_row[1]\n",
    "    if name in unique_name:\n",
    "        duplicate_name.append(name)\n",
    "    else:\n",
    "        unique_name.append(name)"
   ]
  },
  {
   "cell_type": "code",
   "execution_count": 23,
   "metadata": {},
   "outputs": [
    {
     "name": "stdout",
     "output_type": "stream",
     "text": [
      "['Mannequin Challenge', 'VR Roller Coaster']\n"
     ]
    }
   ],
   "source": [
    "print(duplicate_name)"
   ]
  },
  {
   "cell_type": "code",
   "execution_count": 24,
   "metadata": {
    "scrolled": true
   },
   "outputs": [
    {
     "name": "stdout",
     "output_type": "stream",
     "text": [
      "[1173990889, 'Mannequin Challenge', 109705216, 'USD', 0.0, 668, 87, 3.0, 3.0, '1.4', '9+', 'Games', 37, 4, 1, 1]\n",
      "[952877179, 'VR Roller Coaster', 169523200, 'USD', 0.0, 107, 102, 3.5, 3.5, '2.0.0', '4+', 'Games', 37, 5, 1, 1]\n",
      "[1178454060, 'Mannequin Challenge', 59572224, 'USD', 0.0, 105, 58, 4.0, 4.5, '1.0.1', '4+', 'Games', 38, 5, 1, 1]\n",
      "[1089824278, 'VR Roller Coaster', 240964608, 'USD', 0.0, 67, 44, 3.5, 4.0, '0.81', '4+', 'Games', 38, 0, 1, 1]\n"
     ]
    }
   ],
   "source": [
    "for i in apple:\n",
    "    track_name = i[1]\n",
    "    if track_name ==\"Mannequin Challenge\" or track_name==\"VR Roller Coaster\":\n",
    "        print(i)"
   ]
  },
  {
   "cell_type": "code",
   "execution_count": 25,
   "metadata": {},
   "outputs": [
    {
     "name": "stdout",
     "output_type": "stream",
     "text": [
      "<class 'pandas.core.frame.DataFrame'>\n",
      "RangeIndex: 7197 entries, 0 to 7196\n",
      "Data columns (total 16 columns):\n",
      "id                  7197 non-null int64\n",
      "track_name          7197 non-null object\n",
      "size_bytes          7197 non-null int64\n",
      "currency            7197 non-null object\n",
      "price               7197 non-null float64\n",
      "rating_count_tot    7197 non-null int64\n",
      "rating_count_ver    7197 non-null int64\n",
      "user_rating         7197 non-null float64\n",
      "user_rating_ver     7197 non-null float64\n",
      "ver                 7197 non-null object\n",
      "cont_rating         7197 non-null object\n",
      "prime_genre         7197 non-null object\n",
      "sup_devices.num     7197 non-null int64\n",
      "ipadSc_urls.num     7197 non-null int64\n",
      "lang.num            7197 non-null int64\n",
      "vpp_lic             7197 non-null int64\n",
      "dtypes: float64(3), int64(8), object(5)\n",
      "memory usage: 899.8+ KB\n"
     ]
    }
   ],
   "source": [
    "panda_apple.info()"
   ]
  },
  {
   "cell_type": "code",
   "execution_count": 26,
   "metadata": {},
   "outputs": [
    {
     "data": {
      "text/html": [
       "<div>\n",
       "<style scoped>\n",
       "    .dataframe tbody tr th:only-of-type {\n",
       "        vertical-align: middle;\n",
       "    }\n",
       "\n",
       "    .dataframe tbody tr th {\n",
       "        vertical-align: top;\n",
       "    }\n",
       "\n",
       "    .dataframe thead th {\n",
       "        text-align: right;\n",
       "    }\n",
       "</style>\n",
       "<table border=\"1\" class=\"dataframe\">\n",
       "  <thead>\n",
       "    <tr style=\"text-align: right;\">\n",
       "      <th></th>\n",
       "      <th>id</th>\n",
       "      <th>track_name</th>\n",
       "      <th>size_bytes</th>\n",
       "      <th>currency</th>\n",
       "      <th>price</th>\n",
       "      <th>rating_count_tot</th>\n",
       "      <th>rating_count_ver</th>\n",
       "      <th>user_rating</th>\n",
       "      <th>user_rating_ver</th>\n",
       "      <th>ver</th>\n",
       "      <th>cont_rating</th>\n",
       "      <th>prime_genre</th>\n",
       "      <th>sup_devices.num</th>\n",
       "      <th>ipadSc_urls.num</th>\n",
       "      <th>lang.num</th>\n",
       "      <th>vpp_lic</th>\n",
       "    </tr>\n",
       "  </thead>\n",
       "  <tbody>\n",
       "    <tr>\n",
       "      <td>2948</td>\n",
       "      <td>1173990889</td>\n",
       "      <td>Mannequin Challenge</td>\n",
       "      <td>109705216</td>\n",
       "      <td>USD</td>\n",
       "      <td>0.0</td>\n",
       "      <td>668</td>\n",
       "      <td>87</td>\n",
       "      <td>3.0</td>\n",
       "      <td>3.0</td>\n",
       "      <td>1.4</td>\n",
       "      <td>9+</td>\n",
       "      <td>Games</td>\n",
       "      <td>37</td>\n",
       "      <td>4</td>\n",
       "      <td>1</td>\n",
       "      <td>1</td>\n",
       "    </tr>\n",
       "    <tr>\n",
       "      <td>4463</td>\n",
       "      <td>1178454060</td>\n",
       "      <td>Mannequin Challenge</td>\n",
       "      <td>59572224</td>\n",
       "      <td>USD</td>\n",
       "      <td>0.0</td>\n",
       "      <td>105</td>\n",
       "      <td>58</td>\n",
       "      <td>4.0</td>\n",
       "      <td>4.5</td>\n",
       "      <td>1.0.1</td>\n",
       "      <td>4+</td>\n",
       "      <td>Games</td>\n",
       "      <td>38</td>\n",
       "      <td>5</td>\n",
       "      <td>1</td>\n",
       "      <td>1</td>\n",
       "    </tr>\n",
       "  </tbody>\n",
       "</table>\n",
       "</div>"
      ],
      "text/plain": [
       "              id           track_name  size_bytes currency  price  \\\n",
       "2948  1173990889  Mannequin Challenge   109705216      USD    0.0   \n",
       "4463  1178454060  Mannequin Challenge    59572224      USD    0.0   \n",
       "\n",
       "      rating_count_tot  rating_count_ver  user_rating  user_rating_ver    ver  \\\n",
       "2948               668                87          3.0              3.0    1.4   \n",
       "4463               105                58          4.0              4.5  1.0.1   \n",
       "\n",
       "     cont_rating prime_genre  sup_devices.num  ipadSc_urls.num  lang.num  \\\n",
       "2948          9+       Games               37                4         1   \n",
       "4463          4+       Games               38                5         1   \n",
       "\n",
       "      vpp_lic  \n",
       "2948        1  \n",
       "4463        1  "
      ]
     },
     "execution_count": 26,
     "metadata": {},
     "output_type": "execute_result"
    }
   ],
   "source": [
    "panda_apple.loc[panda_apple[\"track_name\"]==\"Mannequin Challenge\"]"
   ]
  },
  {
   "cell_type": "code",
   "execution_count": 27,
   "metadata": {},
   "outputs": [
    {
     "data": {
      "text/html": [
       "<div>\n",
       "<style scoped>\n",
       "    .dataframe tbody tr th:only-of-type {\n",
       "        vertical-align: middle;\n",
       "    }\n",
       "\n",
       "    .dataframe tbody tr th {\n",
       "        vertical-align: top;\n",
       "    }\n",
       "\n",
       "    .dataframe thead th {\n",
       "        text-align: right;\n",
       "    }\n",
       "</style>\n",
       "<table border=\"1\" class=\"dataframe\">\n",
       "  <thead>\n",
       "    <tr style=\"text-align: right;\">\n",
       "      <th></th>\n",
       "      <th>id</th>\n",
       "      <th>track_name</th>\n",
       "      <th>size_bytes</th>\n",
       "      <th>currency</th>\n",
       "      <th>price</th>\n",
       "      <th>rating_count_tot</th>\n",
       "      <th>rating_count_ver</th>\n",
       "      <th>user_rating</th>\n",
       "      <th>user_rating_ver</th>\n",
       "      <th>ver</th>\n",
       "      <th>cont_rating</th>\n",
       "      <th>prime_genre</th>\n",
       "      <th>sup_devices.num</th>\n",
       "      <th>ipadSc_urls.num</th>\n",
       "      <th>lang.num</th>\n",
       "      <th>vpp_lic</th>\n",
       "    </tr>\n",
       "  </thead>\n",
       "  <tbody>\n",
       "    <tr>\n",
       "      <td>4442</td>\n",
       "      <td>952877179</td>\n",
       "      <td>VR Roller Coaster</td>\n",
       "      <td>169523200</td>\n",
       "      <td>USD</td>\n",
       "      <td>0.0</td>\n",
       "      <td>107</td>\n",
       "      <td>102</td>\n",
       "      <td>3.5</td>\n",
       "      <td>3.5</td>\n",
       "      <td>2.0.0</td>\n",
       "      <td>4+</td>\n",
       "      <td>Games</td>\n",
       "      <td>37</td>\n",
       "      <td>5</td>\n",
       "      <td>1</td>\n",
       "      <td>1</td>\n",
       "    </tr>\n",
       "    <tr>\n",
       "      <td>4831</td>\n",
       "      <td>1089824278</td>\n",
       "      <td>VR Roller Coaster</td>\n",
       "      <td>240964608</td>\n",
       "      <td>USD</td>\n",
       "      <td>0.0</td>\n",
       "      <td>67</td>\n",
       "      <td>44</td>\n",
       "      <td>3.5</td>\n",
       "      <td>4.0</td>\n",
       "      <td>0.81</td>\n",
       "      <td>4+</td>\n",
       "      <td>Games</td>\n",
       "      <td>38</td>\n",
       "      <td>0</td>\n",
       "      <td>1</td>\n",
       "      <td>1</td>\n",
       "    </tr>\n",
       "  </tbody>\n",
       "</table>\n",
       "</div>"
      ],
      "text/plain": [
       "              id         track_name  size_bytes currency  price  \\\n",
       "4442   952877179  VR Roller Coaster   169523200      USD    0.0   \n",
       "4831  1089824278  VR Roller Coaster   240964608      USD    0.0   \n",
       "\n",
       "      rating_count_tot  rating_count_ver  user_rating  user_rating_ver    ver  \\\n",
       "4442               107               102          3.5              3.5  2.0.0   \n",
       "4831                67                44          3.5              4.0   0.81   \n",
       "\n",
       "     cont_rating prime_genre  sup_devices.num  ipadSc_urls.num  lang.num  \\\n",
       "4442          4+       Games               37                5         1   \n",
       "4831          4+       Games               38                0         1   \n",
       "\n",
       "      vpp_lic  \n",
       "4442        1  \n",
       "4831        1  "
      ]
     },
     "execution_count": 27,
     "metadata": {},
     "output_type": "execute_result"
    }
   ],
   "source": [
    "panda_apple.loc[panda_apple[\"track_name\"]==\"VR Roller Coaster\"]"
   ]
  },
  {
   "cell_type": "markdown",
   "metadata": {},
   "source": [
    "we will choose based on 'rating_count_tot', which one has more rating count will be kept in the dataset"
   ]
  },
  {
   "cell_type": "code",
   "execution_count": 28,
   "metadata": {},
   "outputs": [],
   "source": [
    "del apple[4831]"
   ]
  },
  {
   "cell_type": "code",
   "execution_count": 29,
   "metadata": {},
   "outputs": [],
   "source": [
    "del apple[4463]"
   ]
  },
  {
   "cell_type": "code",
   "execution_count": 30,
   "metadata": {},
   "outputs": [
    {
     "data": {
      "text/plain": [
       "7195"
      ]
     },
     "execution_count": 30,
     "metadata": {},
     "output_type": "execute_result"
    }
   ],
   "source": [
    "len(apple)"
   ]
  },
  {
   "cell_type": "code",
   "execution_count": 31,
   "metadata": {},
   "outputs": [],
   "source": [
    "apple_english=[]\n",
    "for row in apple:\n",
    "    name = row[1]\n",
    "    if english_checker_2(name):\n",
    "        apple_english.append(row)"
   ]
  },
  {
   "cell_type": "code",
   "execution_count": 32,
   "metadata": {},
   "outputs": [
    {
     "data": {
      "text/plain": [
       "6181"
      ]
     },
     "execution_count": 32,
     "metadata": {},
     "output_type": "execute_result"
    }
   ],
   "source": [
    "len(apple_english)"
   ]
  },
  {
   "cell_type": "code",
   "execution_count": 33,
   "metadata": {},
   "outputs": [],
   "source": [
    "apple_final=[]\n",
    "for app in apple_english:\n",
    "    price = app[4]\n",
    "    if price == 0.0:\n",
    "        apple_final.append(app)"
   ]
  },
  {
   "cell_type": "code",
   "execution_count": 34,
   "metadata": {},
   "outputs": [
    {
     "data": {
      "text/plain": [
       "3220"
      ]
     },
     "execution_count": 34,
     "metadata": {},
     "output_type": "execute_result"
    }
   ],
   "source": [
    "len(apple_final)"
   ]
  },
  {
   "cell_type": "markdown",
   "metadata": {},
   "source": [
    "I've just finished the cleaning process, now we need to choose which app is most suitable for both google play and apple"
   ]
  },
  {
   "cell_type": "markdown",
   "metadata": {},
   "source": [
    "-------------------------------------------------------------------\n",
    "Below is the function to display the percentage of criteria we want, to make the decision which sample is the most common type"
   ]
  },
  {
   "cell_type": "code",
   "execution_count": 35,
   "metadata": {},
   "outputs": [],
   "source": [
    "def freq_table(dataset, index):\n",
    "    table={}\n",
    "    total=0\n",
    "    for each_row in dataset:\n",
    "        total +=1\n",
    "        name = each_row[index]\n",
    "        if name in table:\n",
    "            table[name]+=1\n",
    "        else:\n",
    "            table[name]=1\n",
    "    table_percentages = {}\n",
    "    for key in table:\n",
    "        percentage = (table[key] / total) * 100\n",
    "        table_percentages[key] = percentage \n",
    "    return table_percentages\n",
    "\n",
    "def display_table(dataset,index):\n",
    "    table1= freq_table(dataset, index)\n",
    "    display=[]\n",
    "    for each_key in table1:\n",
    "        value = (table1[each_key], each_key)\n",
    "        display.append(value)\n",
    "    sort=sorted(display)\n",
    "    for key in sort:\n",
    "        print(key[1],\": \",key[0])"
   ]
  },
  {
   "cell_type": "code",
   "execution_count": 36,
   "metadata": {},
   "outputs": [
    {
     "name": "stdout",
     "output_type": "stream",
     "text": [
      "BEAUTY :  0.5979241877256317\n",
      "COMICS :  0.6204873646209386\n",
      "ART_AND_DESIGN :  0.6430505415162455\n",
      "PARENTING :  0.6543321299638989\n",
      "EVENTS :  0.7107400722021661\n",
      "WEATHER :  0.8009927797833934\n",
      "HOUSE_AND_HOME :  0.8235559566787004\n",
      "AUTO_AND_VEHICLES :  0.9250902527075812\n",
      "LIBRARIES_AND_DEMO :  0.9363718411552346\n",
      "ENTERTAINMENT :  0.9589350180505415\n",
      "EDUCATION :  1.1620036101083033\n",
      "FOOD_AND_DRINK :  1.2409747292418771\n",
      "MAPS_AND_NAVIGATION :  1.3989169675090252\n",
      "VIDEO_PLAYERS :  1.7937725631768955\n",
      "DATING :  1.861462093862816\n",
      "BOOKS_AND_REFERENCE :  2.1435018050541514\n",
      "SHOPPING :  2.2450361010830324\n",
      "TRAVEL_AND_LOCAL :  2.33528880866426\n",
      "SOCIAL :  2.6624548736462095\n",
      "NEWS_AND_MAGAZINES :  2.7978339350180503\n",
      "PHOTOGRAPHY :  2.944494584837545\n",
      "HEALTH_AND_FITNESS :  3.0798736462093865\n",
      "COMMUNICATION :  3.2378158844765346\n",
      "PERSONALIZATION :  3.3167870036101084\n",
      "SPORTS :  3.395758122743682\n",
      "MEDICAL :  3.531137184115524\n",
      "FINANCE :  3.7003610108303246\n",
      "PRODUCTIVITY :  3.892148014440433\n",
      "LIFESTYLE :  3.9034296028880866\n",
      "BUSINESS :  4.591606498194946\n",
      "TOOLS :  8.461191335740072\n",
      "GAME :  9.724729241877256\n",
      "FAMILY :  18.907942238267147\n"
     ]
    }
   ],
   "source": [
    "display_table(googleplay_final, 1)"
   ]
  },
  {
   "cell_type": "code",
   "execution_count": 37,
   "metadata": {},
   "outputs": [
    {
     "name": "stdout",
     "output_type": "stream",
     "text": [
      "Catalogs :  0.12422360248447205\n",
      "Medical :  0.18633540372670807\n",
      "Navigation :  0.18633540372670807\n",
      "Book :  0.43478260869565216\n",
      "Business :  0.5279503105590062\n",
      "Reference :  0.5590062111801243\n",
      "Food & Drink :  0.8074534161490683\n",
      "Weather :  0.8695652173913043\n",
      "Finance :  1.1180124223602486\n",
      "Travel :  1.2422360248447204\n",
      "News :  1.3354037267080745\n",
      "Lifestyle :  1.5838509316770186\n",
      "Productivity :  1.7391304347826086\n",
      "Health & Fitness :  2.018633540372671\n",
      "Music :  2.049689440993789\n",
      "Sports :  2.142857142857143\n",
      "Utilities :  2.515527950310559\n",
      "Shopping :  2.608695652173913\n",
      "Social Networking :  3.291925465838509\n",
      "Education :  3.6645962732919255\n",
      "Photo & Video :  4.968944099378882\n",
      "Entertainment :  7.888198757763975\n",
      "Games :  58.13664596273293\n"
     ]
    }
   ],
   "source": [
    "display_table(apple_final, -5)"
   ]
  },
  {
   "cell_type": "markdown",
   "metadata": {},
   "source": [
    "We can apply \"game\" from Applestore into Googleplay because this category is clearly the highest percentage in Applestore (approximately 58%). Besides, \"Game\" in Googleplay holds the second position in the ranking of the most common apps. \n",
    "From that point, we see Applestore focusing more on apps which serve for the hobby and habit purpose.\n",
    "\n",
    "Up to this point, we found that the App Store is dominated by apps designed for fun, while Google Play shows a more balanced landscape of both practical and for-fun apps. Now we'd like to get an idea about the kind of apps that have most users."
   ]
  },
  {
   "cell_type": "code",
   "execution_count": 66,
   "metadata": {},
   "outputs": [],
   "source": [
    "'''calculate the average \n",
    "total rating counting (index 5) \n",
    "for each genre (index -5) in apple dataset'''\n",
    "genre_apple=freq_table(apple_final,-5)\n",
    "genre_avr_rating_apple={}\n",
    "for genre in genre_apple:\n",
    "    total=0\n",
    "    len_genre=0\n",
    "    for row in apple_final:\n",
    "        genre_app=row[-5]\n",
    "        if genre_app == genre:\n",
    "            user_rating=float(row[5])\n",
    "            total+=user_rating\n",
    "            len_genre+=1\n",
    "    avr_rating=total/len_genre\n",
    "    genre_avr_rating_apple[genre]=avr_rating"
   ]
  },
  {
   "cell_type": "code",
   "execution_count": 57,
   "metadata": {},
   "outputs": [],
   "source": [
    "def sorting_dict_base_on_value(dictionary):\n",
    "    empty_dict={}\n",
    "    for each_key in dictionary:\n",
    "        value=dictionary[each_key]\n",
    "        empty_dict[value]=each_key\n",
    "    sorted_dict=sorted(empty_dict)\n",
    "    result_dict={}\n",
    "    for i in sorted_dict:\n",
    "        if i in empty_dict:\n",
    "            result_dict[empty_dict[i]]=i\n",
    "    return result_dict"
   ]
  },
  {
   "cell_type": "code",
   "execution_count": 67,
   "metadata": {},
   "outputs": [
    {
     "data": {
      "text/plain": [
       "{'Medical': 612.0,\n",
       " 'Catalogs': 4004.0,\n",
       " 'Education': 7003.983050847458,\n",
       " 'Business': 7491.117647058823,\n",
       " 'Entertainment': 14029.830708661417,\n",
       " 'Lifestyle': 16485.764705882353,\n",
       " 'Utilities': 18684.456790123455,\n",
       " 'Productivity': 21028.410714285714,\n",
       " 'News': 21248.023255813954,\n",
       " 'Games': 22812.92467948718,\n",
       " 'Sports': 23008.898550724636,\n",
       " 'Health & Fitness': 23298.015384615384,\n",
       " 'Shopping': 26919.690476190477,\n",
       " 'Travel': 28243.8,\n",
       " 'Photo & Video': 28441.54375,\n",
       " 'Finance': 31467.944444444445,\n",
       " 'Food & Drink': 33333.92307692308,\n",
       " 'Book': 39758.5,\n",
       " 'Weather': 52279.892857142855,\n",
       " 'Music': 57326.530303030304,\n",
       " 'Social Networking': 71548.34905660378,\n",
       " 'Reference': 74942.11111111111,\n",
       " 'Navigation': 86090.33333333333}"
      ]
     },
     "execution_count": 67,
     "metadata": {},
     "output_type": "execute_result"
    }
   ],
   "source": [
    "sorting_dict_base_on_value(genre_avr_rating_apple)"
   ]
  },
  {
   "cell_type": "markdown",
   "metadata": {},
   "source": [
    "After finding the highest average rating for each type of app, we see that \"Navigation\" genre is the category witnissing the highest number. The two genres following it are 'Reference' and 'Social Networking', are neatly chasing each other, approxiamtely about 74942 and 71548 for average rating perspectively."
   ]
  },
  {
   "cell_type": "code",
   "execution_count": 41,
   "metadata": {},
   "outputs": [
    {
     "data": {
      "text/html": [
       "<div>\n",
       "<style scoped>\n",
       "    .dataframe tbody tr th:only-of-type {\n",
       "        vertical-align: middle;\n",
       "    }\n",
       "\n",
       "    .dataframe tbody tr th {\n",
       "        vertical-align: top;\n",
       "    }\n",
       "\n",
       "    .dataframe thead th {\n",
       "        text-align: right;\n",
       "    }\n",
       "</style>\n",
       "<table border=\"1\" class=\"dataframe\">\n",
       "  <thead>\n",
       "    <tr style=\"text-align: right;\">\n",
       "      <th></th>\n",
       "      <th>App</th>\n",
       "      <th>Category</th>\n",
       "      <th>Rating</th>\n",
       "      <th>Reviews</th>\n",
       "      <th>Size</th>\n",
       "      <th>Installs</th>\n",
       "      <th>Type</th>\n",
       "      <th>Price</th>\n",
       "      <th>Content Rating</th>\n",
       "      <th>Genres</th>\n",
       "      <th>Last Updated</th>\n",
       "      <th>Current Ver</th>\n",
       "      <th>Android Ver</th>\n",
       "    </tr>\n",
       "  </thead>\n",
       "  <tbody>\n",
       "    <tr>\n",
       "      <td>0</td>\n",
       "      <td>Photo Editor &amp; Candy Camera &amp; Grid &amp; ScrapBook</td>\n",
       "      <td>ART_AND_DESIGN</td>\n",
       "      <td>4.1</td>\n",
       "      <td>159</td>\n",
       "      <td>19M</td>\n",
       "      <td>10,000+</td>\n",
       "      <td>Free</td>\n",
       "      <td>0</td>\n",
       "      <td>Everyone</td>\n",
       "      <td>Art &amp; Design</td>\n",
       "      <td>January 7, 2018</td>\n",
       "      <td>1.0.0</td>\n",
       "      <td>4.0.3 and up</td>\n",
       "    </tr>\n",
       "    <tr>\n",
       "      <td>1</td>\n",
       "      <td>Coloring book moana</td>\n",
       "      <td>ART_AND_DESIGN</td>\n",
       "      <td>3.9</td>\n",
       "      <td>967</td>\n",
       "      <td>14M</td>\n",
       "      <td>500,000+</td>\n",
       "      <td>Free</td>\n",
       "      <td>0</td>\n",
       "      <td>Everyone</td>\n",
       "      <td>Art &amp; Design;Pretend Play</td>\n",
       "      <td>January 15, 2018</td>\n",
       "      <td>2.0.0</td>\n",
       "      <td>4.0.3 and up</td>\n",
       "    </tr>\n",
       "    <tr>\n",
       "      <td>2</td>\n",
       "      <td>U Launcher Lite – FREE Live Cool Themes, Hide ...</td>\n",
       "      <td>ART_AND_DESIGN</td>\n",
       "      <td>4.7</td>\n",
       "      <td>87510</td>\n",
       "      <td>8.7M</td>\n",
       "      <td>5,000,000+</td>\n",
       "      <td>Free</td>\n",
       "      <td>0</td>\n",
       "      <td>Everyone</td>\n",
       "      <td>Art &amp; Design</td>\n",
       "      <td>August 1, 2018</td>\n",
       "      <td>1.2.4</td>\n",
       "      <td>4.0.3 and up</td>\n",
       "    </tr>\n",
       "    <tr>\n",
       "      <td>3</td>\n",
       "      <td>Sketch - Draw &amp; Paint</td>\n",
       "      <td>ART_AND_DESIGN</td>\n",
       "      <td>4.5</td>\n",
       "      <td>215644</td>\n",
       "      <td>25M</td>\n",
       "      <td>50,000,000+</td>\n",
       "      <td>Free</td>\n",
       "      <td>0</td>\n",
       "      <td>Teen</td>\n",
       "      <td>Art &amp; Design</td>\n",
       "      <td>June 8, 2018</td>\n",
       "      <td>Varies with device</td>\n",
       "      <td>4.2 and up</td>\n",
       "    </tr>\n",
       "    <tr>\n",
       "      <td>4</td>\n",
       "      <td>Pixel Draw - Number Art Coloring Book</td>\n",
       "      <td>ART_AND_DESIGN</td>\n",
       "      <td>4.3</td>\n",
       "      <td>967</td>\n",
       "      <td>2.8M</td>\n",
       "      <td>100,000+</td>\n",
       "      <td>Free</td>\n",
       "      <td>0</td>\n",
       "      <td>Everyone</td>\n",
       "      <td>Art &amp; Design;Creativity</td>\n",
       "      <td>June 20, 2018</td>\n",
       "      <td>1.1</td>\n",
       "      <td>4.4 and up</td>\n",
       "    </tr>\n",
       "    <tr>\n",
       "      <td>...</td>\n",
       "      <td>...</td>\n",
       "      <td>...</td>\n",
       "      <td>...</td>\n",
       "      <td>...</td>\n",
       "      <td>...</td>\n",
       "      <td>...</td>\n",
       "      <td>...</td>\n",
       "      <td>...</td>\n",
       "      <td>...</td>\n",
       "      <td>...</td>\n",
       "      <td>...</td>\n",
       "      <td>...</td>\n",
       "      <td>...</td>\n",
       "    </tr>\n",
       "    <tr>\n",
       "      <td>10836</td>\n",
       "      <td>Sya9a Maroc - FR</td>\n",
       "      <td>FAMILY</td>\n",
       "      <td>4.5</td>\n",
       "      <td>38</td>\n",
       "      <td>53M</td>\n",
       "      <td>5,000+</td>\n",
       "      <td>Free</td>\n",
       "      <td>0</td>\n",
       "      <td>Everyone</td>\n",
       "      <td>Education</td>\n",
       "      <td>July 25, 2017</td>\n",
       "      <td>1.48</td>\n",
       "      <td>4.1 and up</td>\n",
       "    </tr>\n",
       "    <tr>\n",
       "      <td>10837</td>\n",
       "      <td>Fr. Mike Schmitz Audio Teachings</td>\n",
       "      <td>FAMILY</td>\n",
       "      <td>5.0</td>\n",
       "      <td>4</td>\n",
       "      <td>3.6M</td>\n",
       "      <td>100+</td>\n",
       "      <td>Free</td>\n",
       "      <td>0</td>\n",
       "      <td>Everyone</td>\n",
       "      <td>Education</td>\n",
       "      <td>July 6, 2018</td>\n",
       "      <td>1.0</td>\n",
       "      <td>4.1 and up</td>\n",
       "    </tr>\n",
       "    <tr>\n",
       "      <td>10838</td>\n",
       "      <td>Parkinson Exercices FR</td>\n",
       "      <td>MEDICAL</td>\n",
       "      <td>NaN</td>\n",
       "      <td>3</td>\n",
       "      <td>9.5M</td>\n",
       "      <td>1,000+</td>\n",
       "      <td>Free</td>\n",
       "      <td>0</td>\n",
       "      <td>Everyone</td>\n",
       "      <td>Medical</td>\n",
       "      <td>January 20, 2017</td>\n",
       "      <td>1.0</td>\n",
       "      <td>2.2 and up</td>\n",
       "    </tr>\n",
       "    <tr>\n",
       "      <td>10839</td>\n",
       "      <td>The SCP Foundation DB fr nn5n</td>\n",
       "      <td>BOOKS_AND_REFERENCE</td>\n",
       "      <td>4.5</td>\n",
       "      <td>114</td>\n",
       "      <td>Varies with device</td>\n",
       "      <td>1,000+</td>\n",
       "      <td>Free</td>\n",
       "      <td>0</td>\n",
       "      <td>Mature 17+</td>\n",
       "      <td>Books &amp; Reference</td>\n",
       "      <td>January 19, 2015</td>\n",
       "      <td>Varies with device</td>\n",
       "      <td>Varies with device</td>\n",
       "    </tr>\n",
       "    <tr>\n",
       "      <td>10840</td>\n",
       "      <td>iHoroscope - 2018 Daily Horoscope &amp; Astrology</td>\n",
       "      <td>LIFESTYLE</td>\n",
       "      <td>4.5</td>\n",
       "      <td>398307</td>\n",
       "      <td>19M</td>\n",
       "      <td>10,000,000+</td>\n",
       "      <td>Free</td>\n",
       "      <td>0</td>\n",
       "      <td>Everyone</td>\n",
       "      <td>Lifestyle</td>\n",
       "      <td>July 25, 2018</td>\n",
       "      <td>Varies with device</td>\n",
       "      <td>Varies with device</td>\n",
       "    </tr>\n",
       "  </tbody>\n",
       "</table>\n",
       "<p>10841 rows × 13 columns</p>\n",
       "</div>"
      ],
      "text/plain": [
       "                                                     App             Category  \\\n",
       "0         Photo Editor & Candy Camera & Grid & ScrapBook       ART_AND_DESIGN   \n",
       "1                                    Coloring book moana       ART_AND_DESIGN   \n",
       "2      U Launcher Lite – FREE Live Cool Themes, Hide ...       ART_AND_DESIGN   \n",
       "3                                  Sketch - Draw & Paint       ART_AND_DESIGN   \n",
       "4                  Pixel Draw - Number Art Coloring Book       ART_AND_DESIGN   \n",
       "...                                                  ...                  ...   \n",
       "10836                                   Sya9a Maroc - FR               FAMILY   \n",
       "10837                   Fr. Mike Schmitz Audio Teachings               FAMILY   \n",
       "10838                             Parkinson Exercices FR              MEDICAL   \n",
       "10839                      The SCP Foundation DB fr nn5n  BOOKS_AND_REFERENCE   \n",
       "10840      iHoroscope - 2018 Daily Horoscope & Astrology            LIFESTYLE   \n",
       "\n",
       "       Rating Reviews                Size     Installs  Type Price  \\\n",
       "0         4.1     159                 19M      10,000+  Free     0   \n",
       "1         3.9     967                 14M     500,000+  Free     0   \n",
       "2         4.7   87510                8.7M   5,000,000+  Free     0   \n",
       "3         4.5  215644                 25M  50,000,000+  Free     0   \n",
       "4         4.3     967                2.8M     100,000+  Free     0   \n",
       "...       ...     ...                 ...          ...   ...   ...   \n",
       "10836     4.5      38                 53M       5,000+  Free     0   \n",
       "10837     5.0       4                3.6M         100+  Free     0   \n",
       "10838     NaN       3                9.5M       1,000+  Free     0   \n",
       "10839     4.5     114  Varies with device       1,000+  Free     0   \n",
       "10840     4.5  398307                 19M  10,000,000+  Free     0   \n",
       "\n",
       "      Content Rating                     Genres      Last Updated  \\\n",
       "0           Everyone               Art & Design   January 7, 2018   \n",
       "1           Everyone  Art & Design;Pretend Play  January 15, 2018   \n",
       "2           Everyone               Art & Design    August 1, 2018   \n",
       "3               Teen               Art & Design      June 8, 2018   \n",
       "4           Everyone    Art & Design;Creativity     June 20, 2018   \n",
       "...              ...                        ...               ...   \n",
       "10836       Everyone                  Education     July 25, 2017   \n",
       "10837       Everyone                  Education      July 6, 2018   \n",
       "10838       Everyone                    Medical  January 20, 2017   \n",
       "10839     Mature 17+          Books & Reference  January 19, 2015   \n",
       "10840       Everyone                  Lifestyle     July 25, 2018   \n",
       "\n",
       "              Current Ver         Android Ver  \n",
       "0                   1.0.0        4.0.3 and up  \n",
       "1                   2.0.0        4.0.3 and up  \n",
       "2                   1.2.4        4.0.3 and up  \n",
       "3      Varies with device          4.2 and up  \n",
       "4                     1.1          4.4 and up  \n",
       "...                   ...                 ...  \n",
       "10836                1.48          4.1 and up  \n",
       "10837                 1.0          4.1 and up  \n",
       "10838                 1.0          2.2 and up  \n",
       "10839  Varies with device  Varies with device  \n",
       "10840  Varies with device  Varies with device  \n",
       "\n",
       "[10841 rows x 13 columns]"
      ]
     },
     "execution_count": 41,
     "metadata": {},
     "output_type": "execute_result"
    }
   ],
   "source": [
    "panda_googleplay"
   ]
  },
  {
   "cell_type": "code",
   "execution_count": 65,
   "metadata": {},
   "outputs": [],
   "source": [
    "Categories_googleplay = freq_table(googleplay_final,1)\n",
    "category_and_avg_no_of_Installs_dict={}\n",
    "for category in Categories_googleplay:\n",
    "    total = 0\n",
    "    len_category =0\n",
    "    for app in googleplay_final:\n",
    "        namecategory=app[1]\n",
    "        if namecategory == category:\n",
    "            no_of_installs=app[5]\n",
    "            no_of_installs=no_of_installs.replace(\"+\",\"\")\n",
    "            no_of_installs=no_of_installs.replace(\",\",\"\")\n",
    "            no_of_installs=float(no_of_installs)\n",
    "            total+=no_of_installs\n",
    "            len_category+=1\n",
    "    avg_no_of_Installs=total/len_category\n",
    "    category_and_avg_no_of_Installs_dict[category]=avg_no_of_Installs"
   ]
  },
  {
   "cell_type": "code",
   "execution_count": 60,
   "metadata": {},
   "outputs": [
    {
     "data": {
      "text/plain": [
       "{'MEDICAL': 120550.61980830671,\n",
       " 'EVENTS': 253542.22222222222,\n",
       " 'BEAUTY': 513151.88679245283,\n",
       " 'PARENTING': 542603.6206896552,\n",
       " 'LIBRARIES_AND_DEMO': 638503.734939759,\n",
       " 'AUTO_AND_VEHICLES': 647317.8170731707,\n",
       " 'COMICS': 817657.2727272727,\n",
       " 'DATING': 854028.8303030303,\n",
       " 'HOUSE_AND_HOME': 1331540.5616438356,\n",
       " 'FINANCE': 1387692.475609756,\n",
       " 'LIFESTYLE': 1437816.2687861272,\n",
       " 'BUSINESS': 1712290.1474201474,\n",
       " 'EDUCATION': 1833495.145631068,\n",
       " 'FOOD_AND_DRINK': 1924897.7363636363,\n",
       " 'ART_AND_DESIGN': 1986335.0877192982,\n",
       " 'SPORTS': 3638640.1428571427,\n",
       " 'FAMILY': 3695641.8198090694,\n",
       " 'MAPS_AND_NAVIGATION': 4056941.7741935486,\n",
       " 'HEALTH_AND_FITNESS': 4188821.9853479853,\n",
       " 'WEATHER': 5074486.197183099,\n",
       " 'PERSONALIZATION': 5201482.6122448975,\n",
       " 'SHOPPING': 7036877.311557789,\n",
       " 'BOOKS_AND_REFERENCE': 8767811.894736841,\n",
       " 'NEWS_AND_MAGAZINES': 9549178.467741935,\n",
       " 'TOOLS': 10801391.298666667,\n",
       " 'ENTERTAINMENT': 11640705.88235294,\n",
       " 'TRAVEL_AND_LOCAL': 13984077.710144928,\n",
       " 'GAME': 15588015.603248259,\n",
       " 'PRODUCTIVITY': 16787331.344927534,\n",
       " 'PHOTOGRAPHY': 17840110.40229885,\n",
       " 'SOCIAL': 23253652.127118643,\n",
       " 'VIDEO_PLAYERS': 24727872.452830188,\n",
       " 'COMMUNICATION': 38456119.167247385}"
      ]
     },
     "execution_count": 60,
     "metadata": {},
     "output_type": "execute_result"
    }
   ],
   "source": [
    "sorting_dict_base_on_value(category_and_avg_no_of_Installs_dict)"
   ]
  },
  {
   "cell_type": "markdown",
   "metadata": {},
   "source": [
    "On average, we see that in googleplay, app used for COMMUNICATION is the most installed app type. (over 38,000,000 installs)\n",
    "\n",
    "From below is the list of communicating apps in google play store having over 500,000,000 installs. Particularly, apps such as Viber, UC Browser,LINE, IMO, Google Duo have more than 500,000,000 installs; and WhatsApp, Messenger, Skype, Google Chrome, Gmail, Hangouts are witnessing over 1,000,000,000 installs"
   ]
  },
  {
   "cell_type": "code",
   "execution_count": 62,
   "metadata": {
    "scrolled": false
   },
   "outputs": [
    {
     "name": "stdout",
     "output_type": "stream",
     "text": [
      "WhatsApp Messenger : 1,000,000,000+\n",
      "Google Duo - High Quality Video Calls : 500,000,000+\n",
      "Messenger – Text and Video Chat for Free : 1,000,000,000+\n",
      "imo free video calls and chat : 500,000,000+\n",
      "Skype - free IM & video calls : 1,000,000,000+\n",
      "LINE: Free Calls & Messages : 500,000,000+\n",
      "Google Chrome: Fast & Secure : 1,000,000,000+\n",
      "UC Browser - Fast Download Private & Secure : 500,000,000+\n",
      "Gmail : 1,000,000,000+\n",
      "Hangouts : 1,000,000,000+\n",
      "Viber Messenger : 500,000,000+\n"
     ]
    }
   ],
   "source": [
    "for row in googleplay_final:\n",
    "    cate=row[1]\n",
    "    installs=row[5]\n",
    "    if cate == \"COMMUNICATION\" and (installs == \"1,000,000,000+\" \n",
    "                            or installs == \"500,000,000+\"):\n",
    "        print(row[0],\":\",installs)"
   ]
  },
  {
   "cell_type": "markdown",
   "metadata": {},
   "source": [
    "However, this is due to the variety of COMMUNICATION apps, there is might be a problem for developing a new app for this type. The marketplace would be saturation for a newcomer to join the party. So I want to change the direction to focus on the third place of the lists, which is 'SOCIAL'. As can be seen from below, there are only 5 apps having over 500,000,000 installs, which also means there a place to set a target for the development. Supporting to this choice, 'Social Networking' is also received many attention from users."
   ]
  },
  {
   "cell_type": "code",
   "execution_count": 64,
   "metadata": {},
   "outputs": [
    {
     "name": "stdout",
     "output_type": "stream",
     "text": [
      "Facebook : 1,000,000,000+\n",
      "Facebook Lite : 500,000,000+\n",
      "Google+ : 1,000,000,000+\n",
      "Instagram : 1,000,000,000+\n",
      "Snapchat : 500,000,000+\n"
     ]
    }
   ],
   "source": [
    "for row in googleplay_final:\n",
    "    cate=row[1]\n",
    "    installs=row[5]\n",
    "    if cate == \"SOCIAL\" and (installs == \"1,000,000,000+\" \n",
    "                            or installs == \"500,000,000+\"):\n",
    "        print(row[0],\":\",installs)"
   ]
  },
  {
   "cell_type": "markdown",
   "metadata": {},
   "source": [
    "## Conclusion\n",
    "According to the two comparison above in Apple Store and Google Play Store. I decide to focus on developing a new app related to Social Media because this type of app attract people using Apple Store and have a potential market in the Google Play market. Besides, we should do integrate some game within our social app, because Apple user is really into entartaining aspect as well (58% of apps in Apple Store is 'Games' criteria and 9.7% holding the second place in Google Play Store)"
   ]
  }
 ],
 "metadata": {
  "kernelspec": {
   "display_name": "Python 3",
   "language": "python",
   "name": "python3"
  },
  "language_info": {
   "codemirror_mode": {
    "name": "ipython",
    "version": 3
   },
   "file_extension": ".py",
   "mimetype": "text/x-python",
   "name": "python",
   "nbconvert_exporter": "python",
   "pygments_lexer": "ipython3",
   "version": "3.7.4"
  }
 },
 "nbformat": 4,
 "nbformat_minor": 2
}
